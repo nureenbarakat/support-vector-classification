{
  "nbformat": 4,
  "nbformat_minor": 0,
  "metadata": {
    "colab": {
      "provenance": []
    },
    "kernelspec": {
      "name": "python3",
      "display_name": "Python 3"
    },
    "language_info": {
      "name": "python"
    }
  },
  "cells": [
    {
      "cell_type": "code",
      "execution_count": null,
      "metadata": {
        "id": "4D4YPGbUbzdn"
      },
      "outputs": [],
      "source": [
        "#@title Import packeges\n",
        "import matplotlib.pyplot as plt\n",
        "import pandas as pd\n",
        "import numpy as np\n",
        "from sklearn.svm import SVC"
      ]
    },
    {
      "cell_type": "code",
      "source": [
        "#@title Import dataset\n",
        "Heartdata=pd.read_csv('/Heart.csv')\n",
        "X=Heartdata.iloc[:,:-1] #input features\n",
        "y=Heartdata.iloc[:,-1] #output(last column)\n",
        "print(Heartdata.shape) #print number of rows,columns in dataset\n",
        "print(Heartdata.columns)"
      ],
      "metadata": {
        "colab": {
          "base_uri": "https://localhost:8080/"
        },
        "id": "QBjBX5E4cMyN",
        "outputId": "0d2b001c-f3c2-453b-fa77-0d1ae6709881"
      },
      "execution_count": null,
      "outputs": [
        {
          "output_type": "stream",
          "name": "stdout",
          "text": [
            "(303, 16)\n",
            "Index(['Id', 'Age', 'Sex', 'ChestPain', 'RestBP', 'Chol', 'Fbs', 'RestECG',\n",
            "       'MaxHR', 'ExAng', 'Oldpeak', 'Slope', 'Ca', 'Thal', 'AHD', 'Target'],\n",
            "      dtype='object')\n"
          ]
        }
      ]
    },
    {
      "cell_type": "code",
      "source": [
        "#show sample of dataset\n",
        "Heartdata.head()"
      ],
      "metadata": {
        "colab": {
          "base_uri": "https://localhost:8080/",
          "height": 206
        },
        "id": "0pmd6NkLka_y",
        "outputId": "7fdefbe0-71a6-426e-9086-3a67409de0c6"
      },
      "execution_count": null,
      "outputs": [
        {
          "output_type": "execute_result",
          "data": {
            "text/plain": [
              "   Id  Age  Sex  ChestPain  RestBP  Chol  Fbs  RestECG  MaxHR  ExAng  Oldpeak  \\\n",
              "0   1   63    1          1     145   233    1        2    150      0      2.3   \n",
              "1   2   67    1          2     160   286    0        2    108      1      1.5   \n",
              "2   3   67    1          2     120   229    0        2    129      1      2.6   \n",
              "3   4   37    1          3     130   250    0        0    187      0      3.5   \n",
              "4   5   41    0          0     130   204    0        2    172      0      1.4   \n",
              "\n",
              "   Slope  Ca  Thal  AHD  Target  \n",
              "0      3   0     0    0       1  \n",
              "1      2   3     1    1       1  \n",
              "2      2   2     2    1       1  \n",
              "3      3   0     1    0       1  \n",
              "4      1   0     1    0       1  "
            ],
            "text/html": [
              "\n",
              "  <div id=\"df-e4fc4355-81e7-471a-b648-0e0574acc639\">\n",
              "    <div class=\"colab-df-container\">\n",
              "      <div>\n",
              "<style scoped>\n",
              "    .dataframe tbody tr th:only-of-type {\n",
              "        vertical-align: middle;\n",
              "    }\n",
              "\n",
              "    .dataframe tbody tr th {\n",
              "        vertical-align: top;\n",
              "    }\n",
              "\n",
              "    .dataframe thead th {\n",
              "        text-align: right;\n",
              "    }\n",
              "</style>\n",
              "<table border=\"1\" class=\"dataframe\">\n",
              "  <thead>\n",
              "    <tr style=\"text-align: right;\">\n",
              "      <th></th>\n",
              "      <th>Id</th>\n",
              "      <th>Age</th>\n",
              "      <th>Sex</th>\n",
              "      <th>ChestPain</th>\n",
              "      <th>RestBP</th>\n",
              "      <th>Chol</th>\n",
              "      <th>Fbs</th>\n",
              "      <th>RestECG</th>\n",
              "      <th>MaxHR</th>\n",
              "      <th>ExAng</th>\n",
              "      <th>Oldpeak</th>\n",
              "      <th>Slope</th>\n",
              "      <th>Ca</th>\n",
              "      <th>Thal</th>\n",
              "      <th>AHD</th>\n",
              "      <th>Target</th>\n",
              "    </tr>\n",
              "  </thead>\n",
              "  <tbody>\n",
              "    <tr>\n",
              "      <th>0</th>\n",
              "      <td>1</td>\n",
              "      <td>63</td>\n",
              "      <td>1</td>\n",
              "      <td>1</td>\n",
              "      <td>145</td>\n",
              "      <td>233</td>\n",
              "      <td>1</td>\n",
              "      <td>2</td>\n",
              "      <td>150</td>\n",
              "      <td>0</td>\n",
              "      <td>2.3</td>\n",
              "      <td>3</td>\n",
              "      <td>0</td>\n",
              "      <td>0</td>\n",
              "      <td>0</td>\n",
              "      <td>1</td>\n",
              "    </tr>\n",
              "    <tr>\n",
              "      <th>1</th>\n",
              "      <td>2</td>\n",
              "      <td>67</td>\n",
              "      <td>1</td>\n",
              "      <td>2</td>\n",
              "      <td>160</td>\n",
              "      <td>286</td>\n",
              "      <td>0</td>\n",
              "      <td>2</td>\n",
              "      <td>108</td>\n",
              "      <td>1</td>\n",
              "      <td>1.5</td>\n",
              "      <td>2</td>\n",
              "      <td>3</td>\n",
              "      <td>1</td>\n",
              "      <td>1</td>\n",
              "      <td>1</td>\n",
              "    </tr>\n",
              "    <tr>\n",
              "      <th>2</th>\n",
              "      <td>3</td>\n",
              "      <td>67</td>\n",
              "      <td>1</td>\n",
              "      <td>2</td>\n",
              "      <td>120</td>\n",
              "      <td>229</td>\n",
              "      <td>0</td>\n",
              "      <td>2</td>\n",
              "      <td>129</td>\n",
              "      <td>1</td>\n",
              "      <td>2.6</td>\n",
              "      <td>2</td>\n",
              "      <td>2</td>\n",
              "      <td>2</td>\n",
              "      <td>1</td>\n",
              "      <td>1</td>\n",
              "    </tr>\n",
              "    <tr>\n",
              "      <th>3</th>\n",
              "      <td>4</td>\n",
              "      <td>37</td>\n",
              "      <td>1</td>\n",
              "      <td>3</td>\n",
              "      <td>130</td>\n",
              "      <td>250</td>\n",
              "      <td>0</td>\n",
              "      <td>0</td>\n",
              "      <td>187</td>\n",
              "      <td>0</td>\n",
              "      <td>3.5</td>\n",
              "      <td>3</td>\n",
              "      <td>0</td>\n",
              "      <td>1</td>\n",
              "      <td>0</td>\n",
              "      <td>1</td>\n",
              "    </tr>\n",
              "    <tr>\n",
              "      <th>4</th>\n",
              "      <td>5</td>\n",
              "      <td>41</td>\n",
              "      <td>0</td>\n",
              "      <td>0</td>\n",
              "      <td>130</td>\n",
              "      <td>204</td>\n",
              "      <td>0</td>\n",
              "      <td>2</td>\n",
              "      <td>172</td>\n",
              "      <td>0</td>\n",
              "      <td>1.4</td>\n",
              "      <td>1</td>\n",
              "      <td>0</td>\n",
              "      <td>1</td>\n",
              "      <td>0</td>\n",
              "      <td>1</td>\n",
              "    </tr>\n",
              "  </tbody>\n",
              "</table>\n",
              "</div>\n",
              "      <button class=\"colab-df-convert\" onclick=\"convertToInteractive('df-e4fc4355-81e7-471a-b648-0e0574acc639')\"\n",
              "              title=\"Convert this dataframe to an interactive table.\"\n",
              "              style=\"display:none;\">\n",
              "        \n",
              "  <svg xmlns=\"http://www.w3.org/2000/svg\" height=\"24px\"viewBox=\"0 0 24 24\"\n",
              "       width=\"24px\">\n",
              "    <path d=\"M0 0h24v24H0V0z\" fill=\"none\"/>\n",
              "    <path d=\"M18.56 5.44l.94 2.06.94-2.06 2.06-.94-2.06-.94-.94-2.06-.94 2.06-2.06.94zm-11 1L8.5 8.5l.94-2.06 2.06-.94-2.06-.94L8.5 2.5l-.94 2.06-2.06.94zm10 10l.94 2.06.94-2.06 2.06-.94-2.06-.94-.94-2.06-.94 2.06-2.06.94z\"/><path d=\"M17.41 7.96l-1.37-1.37c-.4-.4-.92-.59-1.43-.59-.52 0-1.04.2-1.43.59L10.3 9.45l-7.72 7.72c-.78.78-.78 2.05 0 2.83L4 21.41c.39.39.9.59 1.41.59.51 0 1.02-.2 1.41-.59l7.78-7.78 2.81-2.81c.8-.78.8-2.07 0-2.86zM5.41 20L4 18.59l7.72-7.72 1.47 1.35L5.41 20z\"/>\n",
              "  </svg>\n",
              "      </button>\n",
              "      \n",
              "  <style>\n",
              "    .colab-df-container {\n",
              "      display:flex;\n",
              "      flex-wrap:wrap;\n",
              "      gap: 12px;\n",
              "    }\n",
              "\n",
              "    .colab-df-convert {\n",
              "      background-color: #E8F0FE;\n",
              "      border: none;\n",
              "      border-radius: 50%;\n",
              "      cursor: pointer;\n",
              "      display: none;\n",
              "      fill: #1967D2;\n",
              "      height: 32px;\n",
              "      padding: 0 0 0 0;\n",
              "      width: 32px;\n",
              "    }\n",
              "\n",
              "    .colab-df-convert:hover {\n",
              "      background-color: #E2EBFA;\n",
              "      box-shadow: 0px 1px 2px rgba(60, 64, 67, 0.3), 0px 1px 3px 1px rgba(60, 64, 67, 0.15);\n",
              "      fill: #174EA6;\n",
              "    }\n",
              "\n",
              "    [theme=dark] .colab-df-convert {\n",
              "      background-color: #3B4455;\n",
              "      fill: #D2E3FC;\n",
              "    }\n",
              "\n",
              "    [theme=dark] .colab-df-convert:hover {\n",
              "      background-color: #434B5C;\n",
              "      box-shadow: 0px 1px 3px 1px rgba(0, 0, 0, 0.15);\n",
              "      filter: drop-shadow(0px 1px 2px rgba(0, 0, 0, 0.3));\n",
              "      fill: #FFFFFF;\n",
              "    }\n",
              "  </style>\n",
              "\n",
              "      <script>\n",
              "        const buttonEl =\n",
              "          document.querySelector('#df-e4fc4355-81e7-471a-b648-0e0574acc639 button.colab-df-convert');\n",
              "        buttonEl.style.display =\n",
              "          google.colab.kernel.accessAllowed ? 'block' : 'none';\n",
              "\n",
              "        async function convertToInteractive(key) {\n",
              "          const element = document.querySelector('#df-e4fc4355-81e7-471a-b648-0e0574acc639');\n",
              "          const dataTable =\n",
              "            await google.colab.kernel.invokeFunction('convertToInteractive',\n",
              "                                                     [key], {});\n",
              "          if (!dataTable) return;\n",
              "\n",
              "          const docLinkHtml = 'Like what you see? Visit the ' +\n",
              "            '<a target=\"_blank\" href=https://colab.research.google.com/notebooks/data_table.ipynb>data table notebook</a>'\n",
              "            + ' to learn more about interactive tables.';\n",
              "          element.innerHTML = '';\n",
              "          dataTable['output_type'] = 'display_data';\n",
              "          await google.colab.output.renderOutput(dataTable, element);\n",
              "          const docLink = document.createElement('div');\n",
              "          docLink.innerHTML = docLinkHtml;\n",
              "          element.appendChild(docLink);\n",
              "        }\n",
              "      </script>\n",
              "    </div>\n",
              "  </div>\n",
              "  "
            ]
          },
          "metadata": {},
          "execution_count": 9
        }
      ]
    },
    {
      "cell_type": "code",
      "source": [
        "#@title Explore the data to figure out what they look like\n",
        "#Show unclassified data\n",
        "plt.scatter(X.iloc[:, 0], X.iloc[:, 1], c=y, marker='.')\n",
        "plt.show()"
      ],
      "metadata": {
        "colab": {
          "base_uri": "https://localhost:8080/",
          "height": 265
        },
        "id": "vSXG9h5UGI-r",
        "outputId": "aaa6279b-f7de-49ba-e690-2bcf54f7f862"
      },
      "execution_count": null,
      "outputs": [
        {
          "output_type": "display_data",
          "data": {
            "text/plain": [
              "<Figure size 432x288 with 1 Axes>"
            ],
            "image/png": "[encoded data removed]"
          },
          "metadata": {
            "needs_background": "light"
          }
        }
      ]
    },
    {
      "cell_type": "code",
      "source": [
        "#@title Split the data into attributes (training) and labels (testing)\n",
        "from sklearn.model_selection import train_test_split\n",
        "x_train,x_test,y_train,y_test = train_test_split(X,y,test_size=0.25,random_state=0) #split data with 0.25% testing , 0.75% training"
      ],
      "metadata": {
        "id": "kTNqd3aJcxF4"
      },
      "execution_count": null,
      "outputs": []
    },
    {
      "cell_type": "code",
      "source": [
        "#@title Default title text\n",
        "from sklearn.preprocessing import StandardScaler\n",
        "# put features in range(0:1 or -1:1) to speed up training and for much accuracy\n",
        "SC= StandardScaler() \n",
        "x_train=SC.fit_transform(x_train)\n",
        "x_test=SC.transform(x_test)"
      ],
      "metadata": {
        "id": "fFdQ8UjcdtKW"
      },
      "execution_count": null,
      "outputs": []
    },
    {
      "cell_type": "code",
      "source": [
        "#@title Train the SVM algorithm\n",
        "'''\n",
        "sklearn.svm.SVC(c=1,kernel='rbf', degree=3, gamma='scale', \n",
        "                coef0=0.0, shrinking=True, probability=False,tol=0.001, cache_size=200, class_weight=None, \n",
        "                verbose=False, max_iter=-1, decision_function_shape='ovr', random_state=None)\n",
        "'''\n",
        "#define the model\n",
        "classifier=SVC(kernel='rbf',random_state=0) # kernel='rbf' as decision boundry will be not straight line\n",
        "#train the model\n",
        "classifier.fit(x_train,y_train)\n",
        "print(\"SVCModel train score is: \",classifier.score(x_train,y_train))\n",
        "print(\"SVCModel test score is: \",classifier.score(x_test,y_test))"
      ],
      "metadata": {
        "colab": {
          "base_uri": "https://localhost:8080/"
        },
        "id": "jLdxMw8RljAf",
        "outputId": "dd313773-d7ee-47d0-8511-2932045fb2d3"
      },
      "execution_count": null,
      "outputs": [
        {
          "output_type": "stream",
          "name": "stdout",
          "text": [
            "SVCModel train score is:  0.8281938325991189\n",
            "SVCModel test score is:  0.618421052631579\n"
          ]
        }
      ]
    },
    {
      "cell_type": "code",
      "source": [
        "#@title Make some predictions\n",
        "y_pred=classifier.predict(x_test)\n",
        "print(\"predicted value for SVCModel is: \",y_pred[:10])"
      ],
      "metadata": {
        "colab": {
          "base_uri": "https://localhost:8080/"
        },
        "id": "OGJiezUImQBY",
        "outputId": "5a2f4cdb-7026-4e28-895b-ac3679c09fe5"
      },
      "execution_count": null,
      "outputs": [
        {
          "output_type": "stream",
          "name": "stdout",
          "text": [
            "predicted value for SVCModel is:  [1 1 0 0 1 1 1 0 1 0]\n"
          ]
        }
      ]
    },
    {
      "cell_type": "code",
      "source": [
        "#@title Calculate Confusion Matrix\n",
        "from sklearn.metrics import confusion_matrix\n",
        "#calculate the confusion matrix to test the accuracy of prediction\n",
        "cm=confusion_matrix(y_test,y_pred) \n",
        "#if main diagonal(TN,TP) has high values that means there is high accuracy \n",
        "print('Confuison Matrix is: \\n', cm)"
      ],
      "metadata": {
        "colab": {
          "base_uri": "https://localhost:8080/"
        },
        "id": "di48LyBdmcfH",
        "outputId": "8ae83745-2f23-43c8-d42c-966a7f4a6210"
      },
      "execution_count": null,
      "outputs": [
        {
          "output_type": "stream",
          "name": "stdout",
          "text": [
            "Confuison Matrix is: \n",
            " [[ 8 23]\n",
            " [ 6 39]]\n"
          ]
        }
      ]
    },
    {
      "cell_type": "code",
      "source": [
        "#@title plot the confusion matrix\n",
        "import seaborn as sns\n",
        "sns.heatmap(cm,center=True) #center: colour map\n",
        "plt.show()"
      ],
      "metadata": {
        "colab": {
          "base_uri": "https://localhost:8080/",
          "height": 265
        },
        "id": "434keFRjnCnY",
        "outputId": "13526b89-f837-44a8-ad6f-e524359a89eb"
      },
      "execution_count": null,
      "outputs": [
        {
          "output_type": "display_data",
          "data": {
            "text/plain": [
              "<Figure size 432x288 with 2 Axes>"
            ],
            "image/png": "[encoded data removed]"
          },
          "metadata": {
            "needs_background": "light"
          }
        }
      ]
    },
    {
      "cell_type": "code",
      "source": [
        "#@title Evaluate the results of the algorithm\n",
        "'''while trying different values I discovered that:\n",
        "rbf better than poly & sigmoid in accuracy\n",
        "gamma=\"scale\" is the best in accuracy\n",
        "we trying to get best accuracy and avoid overfitting & underfitting'''"
      ],
      "metadata": {
        "id": "ojz4woHMycOj"
      },
      "execution_count": null,
      "outputs": []
    }
  ]
}